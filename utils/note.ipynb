{
 "cells": [
  {
   "cell_type": "code",
   "execution_count": 5,
   "metadata": {},
   "outputs": [],
   "source": [
    "import kalman_filter\n",
    "import numpy as np"
   ]
  },
  {
   "cell_type": "code",
   "execution_count": 10,
   "metadata": {},
   "outputs": [],
   "source": [
    "detections = []\n",
    "for i in range(10):\n",
    "    detections.append([i,i,1,1])\n",
    "\n",
    "track = []\n",
    "for i in range(10):\n",
    "    track.append([np.random.random(1), np.random.random(1), 1., 1., 1., 1., 1., 1.])"
   ]
  },
  {
   "cell_type": "code",
   "execution_count": 11,
   "metadata": {},
   "outputs": [
    {
     "ename": "ValueError",
     "evalue": "setting an array element with a sequence. The requested array has an inhomogeneous shape after 1 dimensions. The detected shape was (4,) + inhomogeneous part.",
     "output_type": "error",
     "traceback": [
      "\u001b[1;31m---------------------------------------------------------------------------\u001b[0m",
      "\u001b[1;31mValueError\u001b[0m                                Traceback (most recent call last)",
      "Cell \u001b[1;32mIn[11], line 11\u001b[0m\n\u001b[0;32m      9\u001b[0m \u001b[38;5;28;01mfor\u001b[39;00m row \u001b[38;5;129;01min\u001b[39;00m \u001b[38;5;28mrange\u001b[39m(\u001b[38;5;241m10\u001b[39m):\n\u001b[0;32m     10\u001b[0m     trk \u001b[38;5;241m=\u001b[39m track[row]\n\u001b[1;32m---> 11\u001b[0m     gating_distance \u001b[38;5;241m=\u001b[39m \u001b[43mkf\u001b[49m\u001b[38;5;241;43m.\u001b[39;49m\u001b[43mgating_distance\u001b[49m\u001b[43m(\u001b[49m\u001b[43mtrk\u001b[49m\u001b[43m[\u001b[49m\u001b[43m:\u001b[49m\u001b[38;5;241;43m4\u001b[39;49m\u001b[43m]\u001b[49m\u001b[43m,\u001b[49m\u001b[43m \u001b[49m\u001b[43mtrk\u001b[49m\u001b[43m[\u001b[49m\u001b[38;5;241;43m4\u001b[39;49m\u001b[43m:\u001b[49m\u001b[43m]\u001b[49m\u001b[43m,\u001b[49m\u001b[43m \u001b[49m\u001b[43mmeasurements\u001b[49m\u001b[43m,\u001b[49m\u001b[43m \u001b[49m\u001b[38;5;28;43;01mTrue\u001b[39;49;00m\u001b[43m)\u001b[49m\n\u001b[0;32m     12\u001b[0m     cost_matrix[row, gating_distance \u001b[38;5;241m>\u001b[39m gating_threshold] \u001b[38;5;241m=\u001b[39m \u001b[38;5;241m1e+5\u001b[39m\n",
      "File \u001b[1;32mc:\\Users\\HS.KIM\\Documents\\experiment\\Tracker\\utils\\kalman_filter.py:217\u001b[0m, in \u001b[0;36mKalmanFilter.gating_distance\u001b[1;34m(self, mean, covariance, measurements, only_position)\u001b[0m\n\u001b[0;32m    188\u001b[0m \u001b[38;5;28;01mdef\u001b[39;00m \u001b[38;5;21mgating_distance\u001b[39m(\u001b[38;5;28mself\u001b[39m, mean, covariance, measurements,\n\u001b[0;32m    189\u001b[0m                     only_position\u001b[38;5;241m=\u001b[39m\u001b[38;5;28;01mFalse\u001b[39;00m):\n\u001b[0;32m    190\u001b[0m \u001b[38;5;250m    \u001b[39m\u001b[38;5;124;03m\"\"\"Compute gating distance between state distribution and measurements.\u001b[39;00m\n\u001b[0;32m    191\u001b[0m \n\u001b[0;32m    192\u001b[0m \u001b[38;5;124;03m    A suitable distance threshold can be obtained from `chi2inv95`. If\u001b[39;00m\n\u001b[1;32m   (...)\u001b[0m\n\u001b[0;32m    215\u001b[0m \u001b[38;5;124;03m        `measurements[i]`.\u001b[39;00m\n\u001b[0;32m    216\u001b[0m \u001b[38;5;124;03m    \"\"\"\u001b[39;00m\n\u001b[1;32m--> 217\u001b[0m     mean, covariance \u001b[38;5;241m=\u001b[39m \u001b[38;5;28;43mself\u001b[39;49m\u001b[38;5;241;43m.\u001b[39;49m\u001b[43mproject\u001b[49m\u001b[43m(\u001b[49m\u001b[43mmean\u001b[49m\u001b[43m,\u001b[49m\u001b[43m \u001b[49m\u001b[43mcovariance\u001b[49m\u001b[43m)\u001b[49m\n\u001b[0;32m    218\u001b[0m     \u001b[38;5;28;01mif\u001b[39;00m only_position:\n\u001b[0;32m    219\u001b[0m         mean, covariance \u001b[38;5;241m=\u001b[39m mean[:\u001b[38;5;241m2\u001b[39m], covariance[:\u001b[38;5;241m2\u001b[39m, :\u001b[38;5;241m2\u001b[39m]\n",
      "File \u001b[1;32mc:\\Users\\HS.KIM\\Documents\\experiment\\Tracker\\utils\\kalman_filter.py:149\u001b[0m, in \u001b[0;36mKalmanFilter.project\u001b[1;34m(self, mean, covariance)\u001b[0m\n\u001b[0;32m    142\u001b[0m std \u001b[38;5;241m=\u001b[39m [\n\u001b[0;32m    143\u001b[0m     \u001b[38;5;28mself\u001b[39m\u001b[38;5;241m.\u001b[39m_std_weight_position \u001b[38;5;241m*\u001b[39m mean[\u001b[38;5;241m3\u001b[39m],\n\u001b[0;32m    144\u001b[0m     \u001b[38;5;28mself\u001b[39m\u001b[38;5;241m.\u001b[39m_std_weight_position \u001b[38;5;241m*\u001b[39m mean[\u001b[38;5;241m3\u001b[39m],\n\u001b[0;32m    145\u001b[0m     \u001b[38;5;241m1e-1\u001b[39m,\n\u001b[0;32m    146\u001b[0m     \u001b[38;5;28mself\u001b[39m\u001b[38;5;241m.\u001b[39m_std_weight_position \u001b[38;5;241m*\u001b[39m mean[\u001b[38;5;241m3\u001b[39m]]\n\u001b[0;32m    147\u001b[0m innovation_cov \u001b[38;5;241m=\u001b[39m np\u001b[38;5;241m.\u001b[39mdiag(np\u001b[38;5;241m.\u001b[39msquare(std))\n\u001b[1;32m--> 149\u001b[0m mean \u001b[38;5;241m=\u001b[39m \u001b[43mnp\u001b[49m\u001b[38;5;241;43m.\u001b[39;49m\u001b[43mdot\u001b[49m\u001b[43m(\u001b[49m\u001b[38;5;28;43mself\u001b[39;49m\u001b[38;5;241;43m.\u001b[39;49m\u001b[43m_update_mat\u001b[49m\u001b[43m,\u001b[49m\u001b[43m \u001b[49m\u001b[43mmean\u001b[49m\u001b[43m)\u001b[49m\n\u001b[0;32m    150\u001b[0m covariance \u001b[38;5;241m=\u001b[39m np\u001b[38;5;241m.\u001b[39mlinalg\u001b[38;5;241m.\u001b[39mmulti_dot((\n\u001b[0;32m    151\u001b[0m     \u001b[38;5;28mself\u001b[39m\u001b[38;5;241m.\u001b[39m_update_mat, covariance, \u001b[38;5;28mself\u001b[39m\u001b[38;5;241m.\u001b[39m_update_mat\u001b[38;5;241m.\u001b[39mT))\n\u001b[0;32m    152\u001b[0m \u001b[38;5;28;01mreturn\u001b[39;00m mean, covariance \u001b[38;5;241m+\u001b[39m innovation_cov\n",
      "\u001b[1;31mValueError\u001b[0m: setting an array element with a sequence. The requested array has an inhomogeneous shape after 1 dimensions. The detected shape was (4,) + inhomogeneous part."
     ]
    }
   ],
   "source": [
    "kf = kalman_filter.KalmanFilter()\n",
    "\n",
    "cost_matrix = np.zeros((10, 10))\n",
    "gating_dim = 2\n",
    "gating_threshold = kalman_filter.chi2inv95[gating_dim]\n",
    "\n",
    "measurements = np.asarray(detections)\n",
    "\n",
    "for row in range(10):\n",
    "    trk = track[row]\n",
    "    gating_distance = kf.gating_distance(trk[:4], trk[4:], measurements, True)\n",
    "    cost_matrix[row, gating_distance > gating_threshold] = 1e+5"
   ]
  }
 ],
 "metadata": {
  "kernelspec": {
   "display_name": "Python 3",
   "language": "python",
   "name": "python3"
  },
  "language_info": {
   "codemirror_mode": {
    "name": "ipython",
    "version": 3
   },
   "file_extension": ".py",
   "mimetype": "text/x-python",
   "name": "python",
   "nbconvert_exporter": "python",
   "pygments_lexer": "ipython3",
   "version": "3.12.0"
  }
 },
 "nbformat": 4,
 "nbformat_minor": 2
}
